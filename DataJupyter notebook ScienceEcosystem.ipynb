{
 "cells": [
  {
   "cell_type": "markdown",
   "id": "1241379b-c773-4723-a467-92f27ec67fdb",
   "metadata": {},
   "source": [
    "# Data Science Tools and Ecosystem"
   ]
  },
  {
   "cell_type": "markdown",
   "id": "1cf72eef-6402-4eee-a9f6-c4b06c572824",
   "metadata": {},
   "source": [
    "In this notebook, Data Science Tools and Ecosystem are summarized."
   ]
  },
  {
   "cell_type": "markdown",
   "id": "846ec358-7e32-4dfd-b2ac-c3e465abbd6c",
   "metadata": {},
   "source": [
    "Some of the popluar languages that Data Scientists use are: Python, R, and SQL"
   ]
  },
  {
   "cell_type": "markdown",
   "id": "ff2ff34f-c1ee-4da0-b2f4-3bdd31f141b6",
   "metadata": {},
   "source": [
    "**Objectives:**"
   ]
  },
  {
   "cell_type": "markdown",
   "id": "0ebf7145-3506-4e2a-9cc2-05e9c6f6bf43",
   "metadata": {},
   "source": [
    "- List popular languages for data science\n",
    "- Commonly used libraries in data science\n",
    "- Commonly used data science tools"
   ]
  },
  {
   "cell_type": "markdown",
   "id": "6085c408-ce22-4fc7-9ea0-8de3692b481b",
   "metadata": {},
   "source": [
    "1. SQL\n",
    "2. Python\n",
    "3. R"
   ]
  },
  {
   "cell_type": "markdown",
   "id": "5b116649-0e63-40b3-9e71-d1682fe7a940",
   "metadata": {},
   "source": [
    "Some of the most commonly used libraries used by Data Scientists include:"
   ]
  },
  {
   "cell_type": "markdown",
   "id": "5e72f608-71ff-4bb5-ba43-a32208ae8678",
   "metadata": {},
   "source": [
    "1. NumPy\n",
    "2. Pandas\n",
    "3. Matplotlib"
   ]
  },
  {
   "cell_type": "markdown",
   "id": "75910738-8384-4baa-ad10-980a3be87cb8",
   "metadata": {},
   "source": [
    "| Data Science Tools    |\n",
    "|-----------------------|\n",
    "| RStudio               |\n",
    "| Apache Zepplin        |\n",
    "| Jupyter Notebooks     |"
   ]
  },
  {
   "cell_type": "markdown",
   "id": "cbc89979-b96a-4ae2-bb88-065c2f4064b9",
   "metadata": {},
   "source": [
    "### Below are a few examples of evaluating arthmetic expressions"
   ]
  },
  {
   "cell_type": "markdown",
   "id": "725abe29-0264-44d6-a63c-8b13a209c5db",
   "metadata": {},
   "source": [
    "This is a simple arithmatic expression to multiply then add integers."
   ]
  },
  {
   "cell_type": "code",
   "execution_count": 1,
   "id": "68f2fae3-9466-4cee-b713-46aadfcdf50a",
   "metadata": {},
   "outputs": [
    {
     "data": {
      "text/plain": [
       "17"
      ]
     },
     "execution_count": 1,
     "metadata": {},
     "output_type": "execute_result"
    }
   ],
   "source": [
    "(3*4)+5\n"
   ]
  },
  {
   "cell_type": "markdown",
   "id": "5af70440-3c3e-402d-b81d-707bbbdb9cf5",
   "metadata": {},
   "source": [
    "This will convert 200 minutes to hours by dividing by 60."
   ]
  },
  {
   "cell_type": "code",
   "execution_count": 2,
   "id": "196378e7-7dda-4ea6-8569-52a042e794e3",
   "metadata": {},
   "outputs": [
    {
     "data": {
      "text/plain": [
       "3.3333333333333335"
      ]
     },
     "execution_count": 2,
     "metadata": {},
     "output_type": "execute_result"
    }
   ],
   "source": [
    "200/60\n"
   ]
  },
  {
   "cell_type": "markdown",
   "id": "6879fdc2-3270-4eb5-b415-b00dde50429c",
   "metadata": {},
   "source": [
    "## Author"
   ]
  },
  {
   "cell_type": "markdown",
   "id": "3f9c7cfa-21d6-4405-a598-76abe718822c",
   "metadata": {},
   "source": [
    "Stephen Pacileo"
   ]
  },
  {
   "cell_type": "code",
   "execution_count": null,
   "id": "8cb57b3e-d54f-405b-a0a1-a88f70906526",
   "metadata": {},
   "outputs": [],
   "source": []
  }
 ],
 "metadata": {
  "kernelspec": {
   "display_name": "Python 3 (ipykernel)",
   "language": "python",
   "name": "python3"
  },
  "language_info": {
   "codemirror_mode": {
    "name": "ipython",
    "version": 3
   },
   "file_extension": ".py",
   "mimetype": "text/x-python",
   "name": "python",
   "nbconvert_exporter": "python",
   "pygments_lexer": "ipython3",
   "version": "3.12.4"
  }
 },
 "nbformat": 4,
 "nbformat_minor": 5
}
